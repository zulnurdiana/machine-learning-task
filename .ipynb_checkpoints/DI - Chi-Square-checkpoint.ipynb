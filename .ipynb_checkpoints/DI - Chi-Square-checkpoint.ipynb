{
 "cells": [
  {
   "cell_type": "markdown",
   "id": "84eefaca-0cef-4cce-9686-a82ce74ef467",
   "metadata": {},
   "source": [
    "# Chi-square Distribution with Python\n",
    "*By P. Stikker*<br>\n",
    "https://PeterStatistics.com<br>\n",
    "https://www.youtube.com/stikpet<br>\n",
    "____"
   ]
  },
  {
   "cell_type": "markdown",
   "id": "1e922701-0af2-488a-bc65-9c28e9188530",
   "metadata": {},
   "source": [
    "The probability density function of the chi-square distribution is given by:\n",
    "\n",
    "$$cpdf\\left(x, k\\right) = \\frac{x^{\\frac{k}{2} - 1}\\times e^{-\\frac{x}{2}}}{2^{\\frac{k}{2}}\\times\\Gamma\\left(\\frac{k}{2}\\right)}$$\n",
    "\n",
    "Where $x$ is usually the calculated $\\chi^2$ value, and $k$ is the degrees of freedom.\n",
    "\n",
    "Since $k$ is the degrees of freedom, it should be an integer. For the $\\Gamma$ function this gives as input $\\frac{k}{2}$ and with this we can define the function as:\n",
    "\n",
    "$$\\Gamma\\left(a=\\frac{x}{2}\\right)=\\begin{cases}\n",
    " \\left(a - 1\\right)!& \\text{ if } x \\text{ is even}\\\\\n",
    " \\frac{\\left(2\\times a\\right)!}{4^a\\times a!}\\times\\sqrt{\\pi} & \\text{ if } x \\text{ is odd} \n",
    "\\end{cases}$$"
   ]
  },
  {
   "cell_type": "markdown",
   "id": "a8cce040-197e-4288-8691-c33f2bb39274",
   "metadata": {},
   "source": [
    "The cumulative distribution function is then simply the integral over the specified range:\n",
    "\n",
    "$$ccdf\\left(x, k\\right) = \\int_{i=0}^{x} cpdf\\left(i,k\\right)$$"
   ]
  },
  {
   "cell_type": "markdown",
   "id": "b3648a4c-bf6c-46ad-8c4f-84b3fac6ba77",
   "metadata": {},
   "source": [
    "To use as an example in this workbook, I'll use a $\\chi^2$ value of 10, and the degrees of freedom $k$ as 4."
   ]
  },
  {
   "cell_type": "code",
   "execution_count": 1,
   "id": "3465f37e-80dd-4c80-a9c5-71cf5589014a",
   "metadata": {},
   "outputs": [],
   "source": [
    "chi2_value = 10\n",
    "df = 4"
   ]
  },
  {
   "cell_type": "markdown",
   "id": "168f7195-4a1e-42b1-9d15-edb3b5486532",
   "metadata": {},
   "source": [
    "## Using Scipy"
   ]
  },
  {
   "cell_type": "markdown",
   "id": "6cbb6f69-847a-4aaa-b3e7-04988a3fa4ee",
   "metadata": {},
   "source": [
    "Probably the easiest method to use the chi-square distribution, is to use the chi2 function from the stats sub library from scipy.\n",
    "\n",
    "If you never used scipy before you probably need to install it first, otherwise you only need to load it."
   ]
  },
  {
   "cell_type": "code",
   "execution_count": 2,
   "id": "ada1a982-e698-4865-a1d1-257b482b46ca",
   "metadata": {},
   "outputs": [],
   "source": [
    "#!pip install scipy\n",
    "from scipy.stats import chi2"
   ]
  },
  {
   "cell_type": "markdown",
   "id": "bb2d7750-b6ef-4553-b96a-a39106564904",
   "metadata": {},
   "source": [
    "Now we can use the **pdf** function:"
   ]
  },
  {
   "cell_type": "code",
   "execution_count": 3,
   "id": "c7893840-d44f-4570-b682-32ce969b2b92",
   "metadata": {},
   "outputs": [
    {
     "data": {
      "text/plain": [
       "0.01684486749771367"
      ]
     },
     "execution_count": 3,
     "metadata": {},
     "output_type": "execute_result"
    }
   ],
   "source": [
    "chi2.pdf(chi2_value, df)"
   ]
  },
  {
   "cell_type": "markdown",
   "id": "897fb40c-2e70-41d0-b994-5078d8748de5",
   "metadata": {},
   "source": [
    "And also the **cdf** function:"
   ]
  },
  {
   "cell_type": "code",
   "execution_count": 4,
   "id": "8f141d4a-3aa5-4bac-bc72-8a2d6aa4e179",
   "metadata": {},
   "outputs": [
    {
     "data": {
      "text/plain": [
       "0.9595723180054873"
      ]
     },
     "execution_count": 4,
     "metadata": {},
     "output_type": "execute_result"
    }
   ],
   "source": [
    "chi2.cdf(chi2_value, df)"
   ]
  },
  {
   "cell_type": "markdown",
   "id": "cad04d1a-d72b-432a-8890-6c5fa38f2779",
   "metadata": {},
   "source": [
    "Often we want the opposite of this, i.e. the probability of a value greater than or equal to the chi-square value. We could simply use 1 minus the found cdf, but we can also use scipy's **survival function**:"
   ]
  },
  {
   "cell_type": "code",
   "execution_count": 5,
   "id": "a56a3a8d-1412-4d7b-8019-0b89097e2718",
   "metadata": {},
   "outputs": [
    {
     "data": {
      "text/plain": [
       "0.04042768199451279"
      ]
     },
     "execution_count": 5,
     "metadata": {},
     "output_type": "execute_result"
    }
   ],
   "source": [
    "chi2.sf(chi2_value, df)"
   ]
  },
  {
   "cell_type": "markdown",
   "id": "b1e928f7-bb9f-4d57-8eff-9a30ec1150da",
   "metadata": {},
   "source": [
    "Just to understand a bit more, a visualisation might help. For this we need numpy and pyplot from the matplotlib library:"
   ]
  },
  {
   "cell_type": "code",
   "execution_count": 6,
   "id": "ddd860f2-6064-4607-9ab4-0e65c61d4092",
   "metadata": {},
   "outputs": [],
   "source": [
    "#!pip install numpy\n",
    "import numpy as np\n",
    "\n",
    "#!pip install matplotlib\n",
    "import matplotlib.pyplot as plt"
   ]
  },
  {
   "cell_type": "markdown",
   "id": "3ae08278-8583-46cd-9e79-c6f5df97841f",
   "metadata": {},
   "source": [
    "Now for the visualisation:"
   ]
  },
  {
   "cell_type": "code",
   "execution_count": 7,
   "id": "936292ae-5c59-441c-a187-69f44c94ea7f",
   "metadata": {},
   "outputs": [
    {
     "data": {
      "image/png": "[encoded data removed]",
      "text/plain": [
       "<Figure size 432x288 with 1 Axes>"
      ]
     },
     "metadata": {
      "needs_background": "light"
     },
     "output_type": "display_data"
    }
   ],
   "source": [
    "x = np.arange(0, 20, 0.001)\n",
    "leftTail = np.arange(0, chi2_value, 0.001)\n",
    "plt.plot(x, chi2.pdf(x, df=df))\n",
    "plt.fill_between(leftTail, chi2.pdf(leftTail, df=df), color='red')\n",
    "plt.show()"
   ]
  },
  {
   "cell_type": "markdown",
   "id": "1203a0d8-68c6-4ad6-a145-08a98316f942",
   "metadata": {},
   "source": [
    "The plot shows the probability density function of a chi-square distribution with 4 degrees of freedom.\n",
    "\n",
    "At our chi-square value of 10, we earlier saw that this should be 0.01684486749771367. Looking at the diagram it seems about right.\n",
    "\n",
    "The cdf of 0.9595723180054873 is the area under the curve from 0 to our chi-square value of 10. The total area should be 1, and indeed almost all of it will be filled by the area from 0 to 10. \n",
    "\n",
    "The survival function is then how much of area there is to the right of it."
   ]
  },
  {
   "cell_type": "markdown",
   "id": "3acacf89-30c7-44a4-9e18-28e715b1f01a",
   "metadata": {},
   "source": [
    "## Calculating the integral"
   ]
  },
  {
   "cell_type": "code",
   "execution_count": 8,
   "id": "544c0f8a-09d9-4631-bbe7-ae9e81d095f1",
   "metadata": {},
   "outputs": [
    {
     "data": {
      "image/png": "[encoded data removed]",
      "text/plain": [
       "<Figure size 432x288 with 1 Axes>"
      ]
     },
     "metadata": {
      "needs_background": "light"
     },
     "output_type": "display_data"
    }
   ],
   "source": [
    "barWidth = 0.5\n",
    "x = np.arange(0, 20, barWidth)\n",
    "xb = np.arange(0, chi2_value, barWidth)\n",
    "yb = chi2.pdf(xb, df)\n",
    "plt.plot(x, chi2.pdf(x, df))\n",
    "plt.bar(xb, yb, color=\"red\",  edgecolor='blue', width=barWidth)\n",
    "plt.show()"
   ]
  },
  {
   "cell_type": "markdown",
   "id": "ef1776a3-4c91-4ed7-90e2-11e13f096407",
   "metadata": {},
   "source": [
    "Calculating an area under a curve, can be done by using an integral. \n",
    "\n",
    "Let's first create our own pdf function using the formula:\n",
    "$$cpdf\\left(x, k\\right) = \\frac{x^{\\frac{k}{2} - 1}\\times e^{-\\frac{x}{2}}}{2^{\\frac{k}{2}}\\times\\Gamma\\left(\\frac{k}{2}\\right)}$$\n",
    "\n",
    "It requires that gamma operator, which we can get from the math library from Python."
   ]
  },
  {
   "cell_type": "code",
   "execution_count": null,
   "id": "700b663d-eb14-4bea-be16-6c1bc857b06a",
   "metadata": {},
   "outputs": [],
   "source": [
    "import math"
   ]
  },
  {
   "cell_type": "code",
   "execution_count": null,
   "id": "6da94a5b-2796-422f-86dc-90d82fcbcbbf",
   "metadata": {},
   "outputs": [],
   "source": [
    "def cpdf(chi2, df):\n",
    "    return chi2**(df/2-1) * math.e**(-chi2/2) / (2**(df/2) * math.gamma(df/2))"
   ]
  },
  {
   "cell_type": "markdown",
   "id": "b37ff856-0fb5-49f0-89a0-c39960a187a5",
   "metadata": {},
   "source": [
    "Lets see if it gives the same result as scipy did, which was 0.01684486749771367:"
   ]
  },
  {
   "cell_type": "code",
   "execution_count": null,
   "id": "6b5d108d-02ed-44c2-a0ba-b02c51b431c9",
   "metadata": {},
   "outputs": [],
   "source": [
    "cpdf(chi2_value, df)"
   ]
  },
  {
   "cell_type": "markdown",
   "id": "e252aa21-fb5b-4548-ba95-723ba8c86fa0",
   "metadata": {},
   "source": [
    "Close enough.\n",
    "\n",
    "Now to calculate that area under the curve. Python has no integral function, so lets use sympy. First load the library (and install if needed)"
   ]
  },
  {
   "cell_type": "code",
   "execution_count": null,
   "id": "b946c74e-cfb5-4c21-8f1a-e76bbf13be14",
   "metadata": {},
   "outputs": [],
   "source": [
    "#!pip install sympy\n",
    "import sympy as sy"
   ]
  },
  {
   "cell_type": "markdown",
   "id": "b3243095-0ea2-4ef4-8132-db2e245fd6e6",
   "metadata": {},
   "source": [
    "Now we can make use of the **integrate** function, and hopefully the same result as with scipy's cdf (which was 0.9595723180054873)"
   ]
  },
  {
   "cell_type": "code",
   "execution_count": null,
   "id": "3ed7c1c0-d2f2-46bb-af2e-388f50996f04",
   "metadata": {},
   "outputs": [],
   "source": [
    "x = sy.Symbol(\"x\")\n",
    "sy.integrate(cpdf(x, df=df), (x, 0, chi2_value))"
   ]
  },
  {
   "cell_type": "markdown",
   "id": "55c1cb6b-c9da-4214-ae7e-deeae14e8f7e",
   "metadata": {},
   "source": [
    "We could also calculate the area with iterations. What we'll do is create very tiny bars from 0 to our chi-square value, and calculate the area of each bar. The smaller we make these bars, the more accurate the result will be."
   ]
  },
  {
   "cell_type": "code",
   "execution_count": null,
   "id": "62479584-f831-402a-9442-a7a2d9f0ca97",
   "metadata": {},
   "outputs": [],
   "source": [
    "pVal = 0\n",
    "step_size = 0.0001\n",
    "my_range = np.arange(0, chi2_value, step_size)\n",
    "for i in my_range:\n",
    "    pVal = pVal + cpdf(i, df) * step_size\n",
    "    \n",
    "pVal"
   ]
  },
  {
   "cell_type": "markdown",
   "id": "edbb0bf1-d6af-4196-9fad-2b678c80e3ed",
   "metadata": {},
   "source": [
    "# Using an Algorithm"
   ]
  },
  {
   "cell_type": "markdown",
   "id": "a9de9f42-d3f6-44b8-a706-f60610c1c31e",
   "metadata": {},
   "source": [
    "Alternatively we could use an algorithm to calculate the cdf. For example ACM Algorithm 299 (Hill & Pike, 1966), which in turn uses ACM Algorithm 209 (Ibbetson, 1963) and is also used by Microsoft https://docs.microsoft.com/en-us/archive/msdn-magazine/2017/march/test-run-chi-squared-goodness-of-fit-using-csharp\n",
    "\n",
    "First the ACM 209 algorithm:"
   ]
  },
  {
   "cell_type": "code",
   "execution_count": null,
   "id": "c8af7b08-1db6-415d-a8f8-87ee58622898",
   "metadata": {},
   "outputs": [],
   "source": [
    "def ncdf(z):\n",
    "    if (z==0):\n",
    "        pVal = 0\n",
    "    else:\n",
    "        y = abs(z)/2\n",
    "        if (y>=3):\n",
    "            pVal = 1\n",
    "        else:\n",
    "            if (y<1):\n",
    "                w = y**2\n",
    "                pVal = ((((((((0.000124818987 * w - 0.001075204047) * w + 0.005198775019) * w - 0.019198292004) * w + 0.059054035642) * w - 0.151968751364) * w + 0.319152932694) * w - 0.531923007300) * w + 0.797884560593) * y * 2.0\n",
    "            else:\n",
    "                y = y - 2\n",
    "                pVal = (((((((((((((-0.000045255659 * y + 0.000152529290) * y - 0.000019538132) * y - 0.000676904986) * y + 0.001390604284) * y - 0.000794620820) * y - 0.002034254874) * y + 0.006549791214) * y - 0.010557625006) * y + 0.011630447319) * y -0.009279453341) * y + 0.005353579108) * y - 0.002141268741) * y + 0.000535310849) * y + 0.999936657524\n",
    "    if (z>0):\n",
    "        pVal = (pVal + 1) /2\n",
    "    else:\n",
    "        pVal = (1 - pVal) /2\n",
    "    return pVal"
   ]
  },
  {
   "cell_type": "markdown",
   "id": "ee6241c4-2096-4bf9-bd74-b55672dc005a",
   "metadata": {},
   "source": [
    "ACM Algorithm 299"
   ]
  },
  {
   "cell_type": "code",
   "execution_count": null,
   "id": "2240e56e-f19d-4522-97b1-38cbdbd997a1",
   "metadata": {},
   "outputs": [],
   "source": [
    "def ccdf(chi2, df):\n",
    "    if chi2 <= 0 or df < 1:\n",
    "        return\n",
    "    \n",
    "    a = 0.5*chi2\n",
    "    y = 0\n",
    "    s = 0\n",
    "    z = 0\n",
    "    ee = 0\n",
    "    c = 0\n",
    "    even = False\n",
    "    if df % 2 == 0:\n",
    "        even = True\n",
    "        \n",
    "    if df>1:\n",
    "        y = math.e**(-a)\n",
    "    \n",
    "    if even == True:\n",
    "        s = y\n",
    "    else:\n",
    "        s = 2*ncdf(-chi2**0.5)\n",
    "    \n",
    "    if df > 2:\n",
    "        x = 0.5*(df - 1)\n",
    "        if even==True:\n",
    "            z = 1\n",
    "        else:\n",
    "            z = 0.5\n",
    "        \n",
    "        if a > 40:\n",
    "            if even==True:\n",
    "                ee = 0\n",
    "            else:\n",
    "                ee = 0.5723649429247000870717135\n",
    "            \n",
    "            c = math.log(a)\n",
    "            \n",
    "            while z <= x:\n",
    "                ee = math.log(z) + ee\n",
    "                s = s + math.e**(c*z-a-ee)\n",
    "                z = z+1\n",
    "                \n",
    "            pVal = s\n",
    "        else:\n",
    "            if even==True:\n",
    "                ee = 1\n",
    "            else:\n",
    "                ee = 0.5641895835477562869480795 / (a**0.5)\n",
    "            c = 0\n",
    "            while z <= x:\n",
    "                ee = ee * a/z\n",
    "                c = c+ee\n",
    "                z = z+1\n",
    "            pVal = c*y + s\n",
    "            \n",
    "    else:\n",
    "        pVal = s\n",
    "        \n",
    "    return 1 - pVal"
   ]
  },
  {
   "cell_type": "code",
   "execution_count": null,
   "id": "b0c89c2b-c79a-4605-b6a8-01362e9f4f9b",
   "metadata": {},
   "outputs": [],
   "source": [
    "ccdf(10,4)"
   ]
  },
  {
   "cell_type": "markdown",
   "id": "99418819-b073-4b91-9289-c56d4355cd18",
   "metadata": {},
   "source": [
    "# Appendix: Avoiding the math library"
   ]
  },
  {
   "cell_type": "markdown",
   "id": "cd954e6a-12f3-416b-a302-f64e96768dde",
   "metadata": {},
   "source": [
    "Even the ACM Algorithm still needs the Euler number $e$ and the natural logarithm from the math library.\n",
    "\n",
    "So how can we avoid those...\n",
    "\n",
    "First that constant $e$.\n",
    "\n",
    "One easy method would be to just set it as a very high decimal approximation. For example we can find 10 000 digits over at: https://www.math.utah.edu/~pa/math/e.html. So just pick a few of them:"
   ]
  },
  {
   "cell_type": "code",
   "execution_count": null,
   "id": "e3071c04-f85e-4a8a-ad51-7a32c9ea64b2",
   "metadata": {},
   "outputs": [],
   "source": [
    "euler = 2.718281828459045235360287471352662497757247093699959574966967627724076630353547594571382178525166427427466391932003\n",
    "euler"
   ]
  },
  {
   "cell_type": "markdown",
   "id": "17f35c18-0db5-4fec-be25-542952f4635d",
   "metadata": {},
   "source": [
    "An often used approach to calculate $e$ is one of it's definitions:\n",
    "\n",
    "$$e = \\sum_{i=0}^{\\infty}\\frac{1}{i!}$$\n",
    "\n",
    "For this we need the factorial operator !, which unfortunately is also in the math library, so we have to make it ourselves first."
   ]
  },
  {
   "cell_type": "markdown",
   "id": "639cc42f-f913-445f-a69c-17c7d0e26b6e",
   "metadata": {},
   "source": [
    "The factorial operator (!) can be defined as:\n",
    "$$x! = \\prod_{i=1}^{x}i$$\n",
    "So our function could be:"
   ]
  },
  {
   "cell_type": "code",
   "execution_count": null,
   "id": "920e70f4-189b-4fd6-80e9-00e8422edbc5",
   "metadata": {},
   "outputs": [],
   "source": [
    "def fact(x):\n",
    "    f = 1\n",
    "    for i in range(x):\n",
    "        f = f * (i+1)\n",
    "    return f"
   ]
  },
  {
   "cell_type": "code",
   "execution_count": null,
   "id": "ebef04b4-601f-4c07-af86-bfd58433eedc",
   "metadata": {},
   "outputs": [],
   "source": [
    "fact(5)"
   ]
  },
  {
   "cell_type": "markdown",
   "id": "2797bd42-4da8-4792-a2fe-9e9fdbf67fe2",
   "metadata": {},
   "source": [
    "It is also possible to use recursion, since:\n",
    "\n",
    "$$x! = x \\times \\left(x-1\\right)!$$"
   ]
  },
  {
   "cell_type": "code",
   "execution_count": null,
   "id": "adc48ee6-9b0b-4ff7-8a63-dd92f5ff3b7d",
   "metadata": {},
   "outputs": [],
   "source": [
    "def fact_v2(x):\n",
    "    if x == 1:\n",
    "        return 1\n",
    "    else:\n",
    "        return (x * fact_v2(x-1))"
   ]
  },
  {
   "cell_type": "code",
   "execution_count": null,
   "id": "cb64619a-6c2d-4475-8014-c9935b13a60f",
   "metadata": {},
   "outputs": [],
   "source": [
    "fact_v2(5)"
   ]
  },
  {
   "cell_type": "markdown",
   "id": "e77b804c-17e8-4f62-a8c1-5c61f3236267",
   "metadata": {},
   "source": [
    "And now for a function to calculate the euler number:"
   ]
  },
  {
   "cell_type": "code",
   "execution_count": null,
   "id": "f7ceadff-f5a6-482d-939b-1029b13497b8",
   "metadata": {},
   "outputs": [],
   "source": [
    "def euler_number(patience):\n",
    "    e = 0\n",
    "    for i in range(patience):\n",
    "        e = e + 1/fact(i)\n",
    "    return e"
   ]
  },
  {
   "cell_type": "code",
   "execution_count": null,
   "id": "de511151-7d9e-489c-817c-9a4c3a308839",
   "metadata": {},
   "outputs": [],
   "source": [
    "euler_number(100)"
   ]
  },
  {
   "cell_type": "markdown",
   "id": "ff6c098b-add7-40cc-9b65-f20b07e27dca",
   "metadata": {},
   "source": [
    "Now for the natural logarithm. \n",
    "\n",
    "In principal if $a$ is the natural logarithm of $x$, then $e^a = x$. Now one method to calculate this is the following:\n",
    "\n",
    "$$ln(x) = \\sum_{i=0}^{\\infty}\\frac{2}{2\\times i + 1}\\times\\left(\\frac{x-1}{x+1}\\right)^{2\\times i+1}$$"
   ]
  },
  {
   "cell_type": "code",
   "execution_count": null,
   "id": "890ec526-17f6-47e0-b8fe-7b75668d284b",
   "metadata": {},
   "outputs": [],
   "source": [
    "def ln(x, patience):\n",
    "    ln = 0\n",
    "    for i in range(patience):\n",
    "        ln = ln + 2/(2*i+1)*((x-1)/(x+1))**(2*i+1)\n",
    "    return ln"
   ]
  },
  {
   "cell_type": "code",
   "execution_count": null,
   "id": "59795415-db11-4e7a-9c73-ae955515e482",
   "metadata": {},
   "outputs": [],
   "source": [
    "ln(20, 1000)"
   ]
  },
  {
   "cell_type": "code",
   "execution_count": null,
   "id": "8238b825-90df-4239-bcd3-ffbdf370010f",
   "metadata": {},
   "outputs": [],
   "source": [
    "euler**ln(20,1000)"
   ]
  },
  {
   "cell_type": "markdown",
   "id": "b4e7ca5a-dd6a-4209-b0ad-72b4501c3672",
   "metadata": {},
   "source": [
    "If you wanted to avoid libraries and not use the algorithm, you'll need that gamma function:"
   ]
  },
  {
   "cell_type": "markdown",
   "id": "ecbe63a2-8444-4965-941d-5b1983f1831d",
   "metadata": {},
   "source": [
    "If $x$ is an integer:\n",
    "$$\\Gamma\\left(a=\\frac{x}{2}\\right)=\\begin{cases}\n",
    " \\left(a - 1\\right)!& \\text{ if } x \\text{ is even}\\\\\n",
    " \\frac{\\left(2\\times a\\right)!}{4^a\\times a!}\\times\\sqrt{\\pi} & \\text{ if } x \\text{ is odd} \n",
    "\\end{cases}$$\n",
    "\n",
    "Sigh, this would need $\\pi$, which is of course available in the math library, but we are trying to avoid that. One easy solution is just to look up the desired number of digits of pi and plug it in as a constant. For example at https://www.piday.org/million/ we find a few:"
   ]
  },
  {
   "cell_type": "code",
   "execution_count": null,
   "id": "f5b4cbae-6cb0-4246-b791-2133f4cce382",
   "metadata": {},
   "outputs": [],
   "source": [
    "PI = 3.141592653589793238462643383279502884197169399375105820974944592307816406286208998628034825342\n",
    "PI"
   ]
  },
  {
   "cell_type": "markdown",
   "id": "fb37c549-b9bb-47d8-8336-6219aa2bdcf0",
   "metadata": {},
   "source": [
    "Alternatively, we could use some recursive formula, like:"
   ]
  },
  {
   "cell_type": "markdown",
   "id": "9a764d4c-fb0b-4966-926a-7a8decc8d80a",
   "metadata": {},
   "source": [
    "$$\\pi = \\sum_{i=0}^{\\infty}\\frac{\\left(i!\\right)^2\\times 2^{i+1}}{\\left(2\\times i + 1\\right)!}$$"
   ]
  },
  {
   "cell_type": "code",
   "execution_count": null,
   "id": "161a24f7-0d00-487e-9017-16e4174e3740",
   "metadata": {},
   "outputs": [],
   "source": [
    "def pi(patience):\n",
    "    pi = 0\n",
    "    for i in range(patience):\n",
    "        pi = pi + fact(i)**2*2**(i+1) / fact(2*i+1)\n",
    "        \n",
    "    return pi"
   ]
  },
  {
   "cell_type": "code",
   "execution_count": null,
   "id": "552d85cd-d2cb-4cd2-be3a-b5f466472ad3",
   "metadata": {},
   "outputs": [],
   "source": [
    "pi(1500)"
   ]
  },
  {
   "cell_type": "markdown",
   "id": "9f3dc6ac-7bf9-42b9-9c17-3eb74e8ba25f",
   "metadata": {},
   "source": [
    "Our gamma function could then look something like:"
   ]
  },
  {
   "cell_type": "code",
   "execution_count": null,
   "id": "28a0a54e-add5-47a3-bec1-ee0d29718afb",
   "metadata": {},
   "outputs": [],
   "source": [
    "def gamma(x):\n",
    "    if x == int(x):\n",
    "        g = fact(x - 1)\n",
    "    else:\n",
    "        a = int(x - 0.5)\n",
    "        g = fact(2*a)/(4**a*fact(a)) * PI**0.5\n",
    "    return g"
   ]
  },
  {
   "cell_type": "code",
   "execution_count": null,
   "id": "f50867c7-1591-42ce-a534-86f3d367646b",
   "metadata": {},
   "outputs": [],
   "source": [
    "gamma(5)"
   ]
  },
  {
   "cell_type": "code",
   "execution_count": null,
   "id": "220488ec-e082-40de-92c1-3aecd7c7a23d",
   "metadata": {},
   "outputs": [],
   "source": [
    "gamma(2.5)"
   ]
  },
  {
   "cell_type": "code",
   "execution_count": null,
   "id": "580ac44c-79a5-4829-8419-a103b4c2e95e",
   "metadata": {},
   "outputs": [],
   "source": []
  }
 ],
 "metadata": {
  "kernelspec": {
   "display_name": "Python 3 (ipykernel)",
   "language": "python",
   "name": "python3"
  },
  "language_info": {
   "codemirror_mode": {
    "name": "ipython",
    "version": 3
   },
   "file_extension": ".py",
   "mimetype": "text/x-python",
   "name": "python",
   "nbconvert_exporter": "python",
   "pygments_lexer": "ipython3",
   "version": "3.8.13"
  }
 },
 "nbformat": 4,
 "nbformat_minor": 5
}
