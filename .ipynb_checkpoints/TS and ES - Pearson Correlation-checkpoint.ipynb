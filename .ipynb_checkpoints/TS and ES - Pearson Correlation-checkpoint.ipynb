{
 "cells": [
  {
   "cell_type": "markdown",
   "metadata": {},
   "source": [
    "# Pearson Correlation\n",
    "a.k.a. Pearson’s r, Pearson Product Moment Correlation, bivariate correlation\n",
    "\n",
    "*By P. Stikker*<br>\n",
    "https://PeterStatistics.com<br>\n",
    "https://www.youtube.com/stikpet<br>"
   ]
  },
  {
   "cell_type": "markdown",
   "metadata": {},
   "source": [
    "## Introduction"
   ]
  },
  {
   "cell_type": "markdown",
   "metadata": {},
   "source": [
    "The most commonly used measure to test if a linear relation exists between two scale variables, is the Pearson Correlation Coefficient (or in it's full name the Pearson product-moment correlation coefficient) (Pearson, 1896).\n",
    "\n",
    "Pearson Correlation varies between -1 and +1. If it is -1 there is a perfect negative lineair relationship, if it is 0 there is no lineair relationship and at +1 there is a perfect positive lineair relationship.\n",
    "\n",
    "A positive relation means that if one variable goes up, the other also goes up (for example number of ice cream sold versus temperature), a negative relation indicates if one goes down, the other goes up (for example number of winter jackets sold versus temperature).\n",
    "\n",
    "Unfortunately there is no formal way to determine if a particular value is high or low, and the rules of thumb floating around on the internet vary quite a lot, often depending on the field (e.g. biology, medicine, business, etc.). For example the same rule of thumb sizes from Rea and Parker (2014):\n",
    "\n",
    "|\\|r\\|| Interpretation|\n",
    "|-------|---------------|\n",
    "|0.00 < 0.10| Negligible|\n",
    "|0.10 < 0.20 |Weak|\n",
    "|0.20 < 0.40| Moderate|\n",
    "|0.40 < 0.60| Relatively strong|\n",
    "|0.60 < 0.80| Strong|\n",
    "|0.80 <= 1.00| Very strong|\n",
    "\n",
    "\n",
    "We can also test if Pearson Correlation might be significantly different from 0."
   ]
  },
  {
   "cell_type": "markdown",
   "metadata": {},
   "source": [
    "## Example"
   ]
  },
  {
   "cell_type": "markdown",
   "metadata": {},
   "source": [
    "To show an example, I'll load some data as a pandas dataframe. So I'll need the '<a href=\"https://pandas.pydata.org\">pandas</a>' library:"
   ]
  },
  {
   "cell_type": "code",
   "execution_count": 1,
   "metadata": {},
   "outputs": [],
   "source": [
    "#!pip install pandas\n",
    "import pandas as pd"
   ]
  },
  {
   "cell_type": "markdown",
   "metadata": {},
   "source": [
    "And then load the example data using the <a href=\"https://pandas.pydata.org/pandas-docs/stable/reference/api/pandas.read_csv.html\">'read_csv'</a>. "
   ]
  },
  {
   "cell_type": "code",
   "execution_count": 2,
   "metadata": {},
   "outputs": [
    {
     "data": {
      "text/html": [
       "<div>\n",
       "<style scoped>\n",
       "    .dataframe tbody tr th:only-of-type {\n",
       "        vertical-align: middle;\n",
       "    }\n",
       "\n",
       "    .dataframe tbody tr th {\n",
       "        vertical-align: top;\n",
       "    }\n",
       "\n",
       "    .dataframe thead th {\n",
       "        text-align: right;\n",
       "    }\n",
       "</style>\n",
       "<table border=\"1\" class=\"dataframe\">\n",
       "  <thead>\n",
       "    <tr style=\"text-align: right;\">\n",
       "      <th></th>\n",
       "      <th>id</th>\n",
       "      <th>gender</th>\n",
       "      <th>bdate</th>\n",
       "      <th>educ</th>\n",
       "      <th>jobcat</th>\n",
       "      <th>salary</th>\n",
       "      <th>salbegin</th>\n",
       "      <th>jobtime</th>\n",
       "      <th>prevexp</th>\n",
       "      <th>minority</th>\n",
       "    </tr>\n",
       "  </thead>\n",
       "  <tbody>\n",
       "    <tr>\n",
       "      <th>0</th>\n",
       "      <td>1.0</td>\n",
       "      <td>Male</td>\n",
       "      <td>1.165415e+10</td>\n",
       "      <td>15.0</td>\n",
       "      <td>Manager</td>\n",
       "      <td>57000.0</td>\n",
       "      <td>27000.0</td>\n",
       "      <td>98.0</td>\n",
       "      <td>144.0</td>\n",
       "      <td>No</td>\n",
       "    </tr>\n",
       "    <tr>\n",
       "      <th>1</th>\n",
       "      <td>2.0</td>\n",
       "      <td>Male</td>\n",
       "      <td>1.185296e+10</td>\n",
       "      <td>16.0</td>\n",
       "      <td>Clerical</td>\n",
       "      <td>40200.0</td>\n",
       "      <td>18750.0</td>\n",
       "      <td>98.0</td>\n",
       "      <td>36.0</td>\n",
       "      <td>No</td>\n",
       "    </tr>\n",
       "    <tr>\n",
       "      <th>2</th>\n",
       "      <td>3.0</td>\n",
       "      <td>Female</td>\n",
       "      <td>1.094334e+10</td>\n",
       "      <td>12.0</td>\n",
       "      <td>Clerical</td>\n",
       "      <td>21450.0</td>\n",
       "      <td>12000.0</td>\n",
       "      <td>98.0</td>\n",
       "      <td>381.0</td>\n",
       "      <td>No</td>\n",
       "    </tr>\n",
       "    <tr>\n",
       "      <th>3</th>\n",
       "      <td>4.0</td>\n",
       "      <td>Female</td>\n",
       "      <td>1.150252e+10</td>\n",
       "      <td>8.0</td>\n",
       "      <td>Clerical</td>\n",
       "      <td>21900.0</td>\n",
       "      <td>13200.0</td>\n",
       "      <td>98.0</td>\n",
       "      <td>190.0</td>\n",
       "      <td>No</td>\n",
       "    </tr>\n",
       "    <tr>\n",
       "      <th>4</th>\n",
       "      <td>5.0</td>\n",
       "      <td>Male</td>\n",
       "      <td>1.174936e+10</td>\n",
       "      <td>15.0</td>\n",
       "      <td>Clerical</td>\n",
       "      <td>45000.0</td>\n",
       "      <td>21000.0</td>\n",
       "      <td>98.0</td>\n",
       "      <td>138.0</td>\n",
       "      <td>No</td>\n",
       "    </tr>\n",
       "  </tbody>\n",
       "</table>\n",
       "</div>"
      ],
      "text/plain": [
       "    id  gender         bdate  educ    jobcat   salary  salbegin  jobtime  \\\n",
       "0  1.0    Male  1.165415e+10  15.0   Manager  57000.0   27000.0     98.0   \n",
       "1  2.0    Male  1.185296e+10  16.0  Clerical  40200.0   18750.0     98.0   \n",
       "2  3.0  Female  1.094334e+10  12.0  Clerical  21450.0   12000.0     98.0   \n",
       "3  4.0  Female  1.150252e+10   8.0  Clerical  21900.0   13200.0     98.0   \n",
       "4  5.0    Male  1.174936e+10  15.0  Clerical  45000.0   21000.0     98.0   \n",
       "\n",
       "  prevexp minority  \n",
       "0   144.0       No  \n",
       "1    36.0       No  \n",
       "2   381.0       No  \n",
       "3   190.0       No  \n",
       "4   138.0       No  "
      ]
     },
     "execution_count": 2,
     "metadata": {},
     "output_type": "execute_result"
    }
   ],
   "source": [
    "myDf = pd.read_csv('../../Data/csv/EmployeeData.csv')\n",
    "myDf.head()"
   ]
  },
  {
   "cell_type": "markdown",
   "metadata": {},
   "source": [
    "For the example I'll use the *salbegin* (the beginning salary) and the *salary* (the current salary). We can create a separate dataframe from just those two, and remove any missing values from it."
   ]
  },
  {
   "cell_type": "code",
   "execution_count": 3,
   "metadata": {},
   "outputs": [
    {
     "data": {
      "text/html": [
       "<div>\n",
       "<style scoped>\n",
       "    .dataframe tbody tr th:only-of-type {\n",
       "        vertical-align: middle;\n",
       "    }\n",
       "\n",
       "    .dataframe tbody tr th {\n",
       "        vertical-align: top;\n",
       "    }\n",
       "\n",
       "    .dataframe thead th {\n",
       "        text-align: right;\n",
       "    }\n",
       "</style>\n",
       "<table border=\"1\" class=\"dataframe\">\n",
       "  <thead>\n",
       "    <tr style=\"text-align: right;\">\n",
       "      <th></th>\n",
       "      <th>salbegin</th>\n",
       "      <th>salary</th>\n",
       "    </tr>\n",
       "  </thead>\n",
       "  <tbody>\n",
       "    <tr>\n",
       "      <th>0</th>\n",
       "      <td>27000.0</td>\n",
       "      <td>57000.0</td>\n",
       "    </tr>\n",
       "    <tr>\n",
       "      <th>1</th>\n",
       "      <td>18750.0</td>\n",
       "      <td>40200.0</td>\n",
       "    </tr>\n",
       "    <tr>\n",
       "      <th>2</th>\n",
       "      <td>12000.0</td>\n",
       "      <td>21450.0</td>\n",
       "    </tr>\n",
       "    <tr>\n",
       "      <th>3</th>\n",
       "      <td>13200.0</td>\n",
       "      <td>21900.0</td>\n",
       "    </tr>\n",
       "    <tr>\n",
       "      <th>4</th>\n",
       "      <td>21000.0</td>\n",
       "      <td>45000.0</td>\n",
       "    </tr>\n",
       "  </tbody>\n",
       "</table>\n",
       "</div>"
      ],
      "text/plain": [
       "   salbegin   salary\n",
       "0   27000.0  57000.0\n",
       "1   18750.0  40200.0\n",
       "2   12000.0  21450.0\n",
       "3   13200.0  21900.0\n",
       "4   21000.0  45000.0"
      ]
     },
     "execution_count": 3,
     "metadata": {},
     "output_type": "execute_result"
    }
   ],
   "source": [
    "newDf = myDf[['salbegin', 'salary']].dropna()\n",
    "newDf.head()"
   ]
  },
  {
   "cell_type": "markdown",
   "metadata": {},
   "source": [
    "Pandas has its own correlation coefficient function 'corr'. We can simply add it as a function to the new dataframe:"
   ]
  },
  {
   "cell_type": "code",
   "execution_count": 4,
   "metadata": {},
   "outputs": [
    {
     "data": {
      "text/html": [
       "<div>\n",
       "<style scoped>\n",
       "    .dataframe tbody tr th:only-of-type {\n",
       "        vertical-align: middle;\n",
       "    }\n",
       "\n",
       "    .dataframe tbody tr th {\n",
       "        vertical-align: top;\n",
       "    }\n",
       "\n",
       "    .dataframe thead th {\n",
       "        text-align: right;\n",
       "    }\n",
       "</style>\n",
       "<table border=\"1\" class=\"dataframe\">\n",
       "  <thead>\n",
       "    <tr style=\"text-align: right;\">\n",
       "      <th></th>\n",
       "      <th>salbegin</th>\n",
       "      <th>salary</th>\n",
       "    </tr>\n",
       "  </thead>\n",
       "  <tbody>\n",
       "    <tr>\n",
       "      <th>salbegin</th>\n",
       "      <td>1.000000</td>\n",
       "      <td>0.880117</td>\n",
       "    </tr>\n",
       "    <tr>\n",
       "      <th>salary</th>\n",
       "      <td>0.880117</td>\n",
       "      <td>1.000000</td>\n",
       "    </tr>\n",
       "  </tbody>\n",
       "</table>\n",
       "</div>"
      ],
      "text/plain": [
       "          salbegin    salary\n",
       "salbegin  1.000000  0.880117\n",
       "salary    0.880117  1.000000"
      ]
     },
     "execution_count": 4,
     "metadata": {},
     "output_type": "execute_result"
    }
   ],
   "source": [
    "newDf.corr()"
   ]
  },
  {
   "cell_type": "markdown",
   "metadata": {},
   "source": [
    "A correlation coefficient of 0.88. It is positive so if the beginning salary is high then also the current salary will be usually higher. \n",
    "The relation could be classified as 'very strong', since it fits in the 0.80 <= 1.00 category.\n",
    "\n",
    "We can get the same result using numpy. Of course we first import numpy:"
   ]
  },
  {
   "cell_type": "code",
   "execution_count": 5,
   "metadata": {},
   "outputs": [],
   "source": [
    "# !pip install numpy\n",
    "import numpy as np"
   ]
  },
  {
   "cell_type": "markdown",
   "metadata": {},
   "source": [
    "Then convert our two fields to numpy arrays."
   ]
  },
  {
   "cell_type": "code",
   "execution_count": 6,
   "metadata": {},
   "outputs": [],
   "source": [
    "npArr1 = np.array(myDf['salary'])\n",
    "npArr2 = np.array(myDf['salbegin'])"
   ]
  },
  {
   "cell_type": "markdown",
   "metadata": {},
   "source": [
    "Then we can use numpy's 'corrcoef' function:"
   ]
  },
  {
   "cell_type": "code",
   "execution_count": 7,
   "metadata": {},
   "outputs": [
    {
     "data": {
      "text/plain": [
       "array([[1.        , 0.88011747],\n",
       "       [0.88011747, 1.        ]])"
      ]
     },
     "execution_count": 7,
     "metadata": {},
     "output_type": "execute_result"
    }
   ],
   "source": [
    "np.corrcoef(npArr1, npArr2)"
   ]
  },
  {
   "cell_type": "markdown",
   "metadata": {},
   "source": [
    "The same result as with pandas. \n",
    "\n",
    "Neither pandas nor numpy will actually show the signficance (p-value), but there are more packages available. One of them is for example scipy.stats:"
   ]
  },
  {
   "cell_type": "code",
   "execution_count": 8,
   "metadata": {},
   "outputs": [],
   "source": [
    "# !pip install scipy.stats\n",
    "from scipy.stats import pearsonr"
   ]
  },
  {
   "cell_type": "markdown",
   "metadata": {},
   "source": [
    "Now we can use the 'pearsonr' function:"
   ]
  },
  {
   "cell_type": "code",
   "execution_count": 9,
   "metadata": {},
   "outputs": [
    {
     "data": {
      "text/plain": [
       "(0.8801174655999495, 8.203222401982817e-155)"
      ]
     },
     "execution_count": 9,
     "metadata": {},
     "output_type": "execute_result"
    }
   ],
   "source": [
    "pearsonr(myDf['salary'], myDf['salbegin'])"
   ]
  },
  {
   "cell_type": "markdown",
   "metadata": {},
   "source": [
    "The first value is the correlation coefficient, and the second the p-value (significance). \n",
    "\n",
    "In the example the significance of this test is .000. This is the chance of finding a correlation coefficient of .880 or even higher in a sample, if in the population it would be 0 (no association). This is such a low chance, that we can say that in the population the correlation coefficient will be indeed different from zero, and conclude that there is a significant linear association between the two variables.\n",
    "\n",
    "Also pingouin shows this:"
   ]
  },
  {
   "cell_type": "code",
   "execution_count": 10,
   "metadata": {},
   "outputs": [],
   "source": [
    "# !pip install pingouin\n",
    "from pingouin import corr"
   ]
  },
  {
   "cell_type": "code",
   "execution_count": 11,
   "metadata": {},
   "outputs": [
    {
     "data": {
      "text/html": [
       "<div>\n",
       "<style scoped>\n",
       "    .dataframe tbody tr th:only-of-type {\n",
       "        vertical-align: middle;\n",
       "    }\n",
       "\n",
       "    .dataframe tbody tr th {\n",
       "        vertical-align: top;\n",
       "    }\n",
       "\n",
       "    .dataframe thead th {\n",
       "        text-align: right;\n",
       "    }\n",
       "</style>\n",
       "<table border=\"1\" class=\"dataframe\">\n",
       "  <thead>\n",
       "    <tr style=\"text-align: right;\">\n",
       "      <th></th>\n",
       "      <th>n</th>\n",
       "      <th>r</th>\n",
       "      <th>CI95%</th>\n",
       "      <th>r2</th>\n",
       "      <th>adj_r2</th>\n",
       "      <th>p-val</th>\n",
       "      <th>BF10</th>\n",
       "      <th>power</th>\n",
       "    </tr>\n",
       "  </thead>\n",
       "  <tbody>\n",
       "    <tr>\n",
       "      <th>pearson</th>\n",
       "      <td>474</td>\n",
       "      <td>0.880117</td>\n",
       "      <td>[0.86, 0.9]</td>\n",
       "      <td>0.774607</td>\n",
       "      <td>0.77365</td>\n",
       "      <td>8.203222e-155</td>\n",
       "      <td>6.638e+150</td>\n",
       "      <td>1.0</td>\n",
       "    </tr>\n",
       "  </tbody>\n",
       "</table>\n",
       "</div>"
      ],
      "text/plain": [
       "           n         r        CI95%        r2   adj_r2          p-val  \\\n",
       "pearson  474  0.880117  [0.86, 0.9]  0.774607  0.77365  8.203222e-155   \n",
       "\n",
       "               BF10  power  \n",
       "pearson  6.638e+150    1.0  "
      ]
     },
     "execution_count": 11,
     "metadata": {},
     "output_type": "execute_result"
    }
   ],
   "source": [
    "corr(myDf['salary'], myDf['salbegin'])"
   ]
  },
  {
   "cell_type": "markdown",
   "metadata": {},
   "source": [
    "Or researchpy"
   ]
  },
  {
   "cell_type": "code",
   "execution_count": 12,
   "metadata": {},
   "outputs": [],
   "source": [
    "# !pip install researchpy\n",
    "from researchpy.correlation import corr_case"
   ]
  },
  {
   "cell_type": "code",
   "execution_count": 13,
   "metadata": {},
   "outputs": [
    {
     "data": {
      "text/plain": [
       "(  Pearson correlation test using list-wise deletion\n",
       " 0                     Total observations used = 474,\n",
       "           salary salbegin\n",
       " salary         1   0.8801\n",
       " salbegin  0.8801        1,\n",
       "           salary salbegin\n",
       " salary    0.0000   0.0000\n",
       " salbegin  0.0000   0.0000)"
      ]
     },
     "execution_count": 13,
     "metadata": {},
     "output_type": "execute_result"
    }
   ],
   "source": [
    "corr_case(myDf[['salary', 'salbegin']])"
   ]
  },
  {
   "cell_type": "markdown",
   "metadata": {},
   "source": [
    "Again the same results. There probably more packages out there, but this should give some indication.\n",
    "\n",
    "In the appendix I'll go over the formulas avoiding packages almost entirely (only for the t-distribution its used to get the p-value)."
   ]
  },
  {
   "cell_type": "markdown",
   "metadata": {},
   "source": [
    "## References\n",
    "\n",
    "Pearson, K. (1896). Mathematical contributions to the theory of evolution. III. Regression, heredity, and panmixia. *Philosophical Transactions of the Royal Society of London. (A.), 1896*, 253–318.\n",
    "\n",
    "Rea, L. M., & Parker, R. A. (2014). *Designing and conducting survey research: a comprehensive guide*. San Francisco: Jossey-Bass Publishers."
   ]
  },
  {
   "cell_type": "markdown",
   "metadata": {},
   "source": [
    "## Appendix: The hard way"
   ]
  },
  {
   "cell_type": "markdown",
   "metadata": {},
   "source": [
    "To avoid packages as much as possible, we will need to go over the formulas. First convert the two variables scores into a Python native format: a list."
   ]
  },
  {
   "cell_type": "code",
   "execution_count": 14,
   "metadata": {},
   "outputs": [],
   "source": [
    "list1 = list(newDf['salary'])\n",
    "list2 = list(newDf['salbegin'])"
   ]
  },
  {
   "cell_type": "markdown",
   "metadata": {},
   "source": [
    "The formula for the Spearman rho can be written as:\n",
    "\n",
    "\\begin{equation*}\n",
    "r_s = \\frac{\\sum_{i=1}^n \\left( \\left( x_i-\\bar{x} \\right) \\times \\left(y_i-\\bar{y}\\right)\\right)}{\\sqrt{SS_{x}\\times SS_{y}}}\n",
    "\\end{equation*}\n",
    "\n",
    "We'll disect this formula in parts.\n",
    "\n",
    "First there is $\\bar{x}$ and $\\bar{y}$. These are the means of each of the two lists.\n",
    "\n",
    "\\begin{equation*}\n",
    "\\bar{x} = \\frac{\\sum_{i=1}^n x_i}{n}, \\bar{y} = \\frac{\\sum_{i=1}^n y_i}{n}\n",
    "\\end{equation*}\n",
    "\n",
    "In these formulas $n$ is the number of pairs, $x_i$ is the i-th score in the first variable, and $y_i$ the i-th score in the second variable.\n",
    "With Pandas 'len' function we can easily determine the number of pairs, and with Pandas 'sum' function we can sum the ranks of each variable."
   ]
  },
  {
   "cell_type": "code",
   "execution_count": 15,
   "metadata": {},
   "outputs": [
    {
     "data": {
      "text/plain": [
       "(474, 34419.56751054852, 17016.086497890294)"
      ]
     },
     "execution_count": 15,
     "metadata": {},
     "output_type": "execute_result"
    }
   ],
   "source": [
    "n = len(list1)\n",
    "mean1 = sum(list1) / n\n",
    "mean2 = sum(list2) / n\n",
    "\n",
    "n, mean1, mean2"
   ]
  },
  {
   "cell_type": "markdown",
   "metadata": {},
   "source": [
    "Next is that numerator:\n",
    "\n",
    "\\begin{equation*}\n",
    "\\sum_{i=1}^n \\left( \\left( x_i-\\bar{x} \\right) \\times \\left(y_i-\\bar{y}\\right)\\right)\n",
    "\\end{equation*}\n",
    "\n",
    "We actually have everything needed here, so simply plug in the formula:"
   ]
  },
  {
   "cell_type": "code",
   "execution_count": 16,
   "metadata": {},
   "outputs": [
    {
     "data": {
      "text/plain": [
       "55948605047.73208"
      ]
     },
     "execution_count": 16,
     "metadata": {},
     "output_type": "execute_result"
    }
   ],
   "source": [
    "num = 0\n",
    "for i in range(n):\n",
    "    num = num + (list1[i] - mean1) * (list2[i] - mean2)\n",
    "    \n",
    "num"
   ]
  },
  {
   "cell_type": "markdown",
   "metadata": {},
   "source": [
    "The denominator looked like:\n",
    "\n",
    "\\begin{equation*}\n",
    "\\sqrt{SS_{x}\\times SS_{y}}\n",
    "\\end{equation*}\n",
    "\n",
    "Here the $SS_{x}$ is the sum of squares, defined with:\n",
    "\n",
    "\\begin{equation*}\n",
    "SS_{x} = \\sum_{i=1}^n \\left( x_i - \\bar{x} \\right)^2\n",
    "\\end{equation*}\n",
    "\n",
    "and similar for $SS_{y}$:\n",
    "\\begin{equation*}\n",
    "SS_{y} = \\sum_{i=1}^n \\left( y_i - \\bar{y} \\right)^2\n",
    "\\end{equation*}\n",
    "\n",
    "We have all we need for these, so can immediately code them:"
   ]
  },
  {
   "cell_type": "code",
   "execution_count": 17,
   "metadata": {},
   "outputs": [
    {
     "data": {
      "text/plain": [
       "(137916495436.33975, 29300904965.45357)"
      ]
     },
     "execution_count": 17,
     "metadata": {},
     "output_type": "execute_result"
    }
   ],
   "source": [
    "SS1 = 0\n",
    "for i in list1:\n",
    "    SS1 = SS1 + (i - mean1)**2\n",
    "\n",
    "SS2 = 0\n",
    "for i in list2:\n",
    "    SS2 = SS2 + (i - mean2)**2\n",
    "\n",
    "SS1, SS2"
   ]
  },
  {
   "cell_type": "markdown",
   "metadata": {},
   "source": [
    "Finally we can simply fill out the formula now for Spearman rho:"
   ]
  },
  {
   "cell_type": "code",
   "execution_count": 18,
   "metadata": {},
   "outputs": [
    {
     "data": {
      "text/plain": [
       "0.880117465599948"
      ]
     },
     "execution_count": 18,
     "metadata": {},
     "output_type": "execute_result"
    }
   ],
   "source": [
    "pearsonCorr = num / (SS1 * SS2)**0.5\n",
    "pearsonCorr"
   ]
  },
  {
   "cell_type": "markdown",
   "metadata": {},
   "source": [
    "To get the p-value, we can convert the coefficient to a t-value using:\n",
    "\n",
    "\\begin{equation*}\n",
    "t = r \\times \\sqrt{\\frac{n - 2}{1 - r^2}}\n",
    "\\end{equation*}"
   ]
  },
  {
   "cell_type": "code",
   "execution_count": 19,
   "metadata": {},
   "outputs": [
    {
     "data": {
      "text/plain": [
       "40.27552303306331"
      ]
     },
     "execution_count": 19,
     "metadata": {},
     "output_type": "execute_result"
    }
   ],
   "source": [
    "tval = pearsonCorr * ((n - 2) / (1 - pearsonCorr**2))**0.5\n",
    "tval"
   ]
  },
  {
   "cell_type": "markdown",
   "metadata": {},
   "source": [
    "To find the corresponding p-value to this t-value we do need a library that has the t-distribution, like scipy.stats:"
   ]
  },
  {
   "cell_type": "code",
   "execution_count": 20,
   "metadata": {},
   "outputs": [],
   "source": [
    "# !pip install scipy.stats\n",
    "from scipy.stats import t"
   ]
  },
  {
   "cell_type": "markdown",
   "metadata": {},
   "source": [
    "We also need the degrees of freedom, which is defined as:\n",
    "\n",
    "\\begin{equation*}\n",
    "df = n - 2\n",
    "\\end{equation*}\n"
   ]
  },
  {
   "cell_type": "code",
   "execution_count": 21,
   "metadata": {},
   "outputs": [
    {
     "data": {
      "text/plain": [
       "472"
      ]
     },
     "execution_count": 21,
     "metadata": {},
     "output_type": "execute_result"
    }
   ],
   "source": [
    "df = n - 2\n",
    "df"
   ]
  },
  {
   "cell_type": "markdown",
   "metadata": {},
   "source": [
    "Finally for the p-value we can now use:"
   ]
  },
  {
   "cell_type": "code",
   "execution_count": 22,
   "metadata": {},
   "outputs": [
    {
     "data": {
      "text/plain": [
       "8.203222402012955e-155"
      ]
     },
     "execution_count": 22,
     "metadata": {},
     "output_type": "execute_result"
    }
   ],
   "source": [
    "t.sf(tval, df)*2"
   ]
  },
  {
   "cell_type": "code",
   "execution_count": null,
   "metadata": {},
   "outputs": [],
   "source": []
  }
 ],
 "metadata": {
  "kernelspec": {
   "display_name": "Python 3",
   "language": "python",
   "name": "python3"
  },
  "language_info": {
   "codemirror_mode": {
    "name": "ipython",
    "version": 3
   },
   "file_extension": ".py",
   "mimetype": "text/x-python",
   "name": "python",
   "nbconvert_exporter": "python",
   "pygments_lexer": "ipython3",
   "version": "3.7.7"
  }
 },
 "nbformat": 4,
 "nbformat_minor": 4
}
